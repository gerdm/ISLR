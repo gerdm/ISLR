{
 "cells": [
  {
   "cell_type": "markdown",
   "metadata": {
    "collapsed": true
   },
   "source": [
    "# Chapter 5 Exercises"
   ]
  },
  {
   "cell_type": "code",
   "execution_count": 1,
   "metadata": {
    "collapsed": false
   },
   "outputs": [],
   "source": [
    "import numpy as np\n",
    "from numpy.random import choice\n",
    "import pandas as pd\n",
    "import matplotlib.pyplot as plt\n",
    "import seaborn as sns\n",
    "import statsmodels.api as sm\n",
    "from pydataset import data\n",
    "from sklearn.utils import resample\n",
    "from numpy.random import seed\n",
    "\n",
    "%load_ext rpy2.ipython"
   ]
  },
  {
   "cell_type": "markdown",
   "metadata": {},
   "source": [
    "## Conceptual"
   ]
  },
  {
   "cell_type": "markdown",
   "metadata": {},
   "source": [
    "### 2.h)\n",
    "We will now investigate numerically the probability that a bootstrap sample of size $n = 100$ **contains** the $j$th observation. Here $j = 4$. We repeatedly create bootstrap samples, and each time we record whether or not the fourth observation is contained in the bootstrap sample."
   ]
  },
  {
   "cell_type": "code",
   "execution_count": 2,
   "metadata": {
    "collapsed": false
   },
   "outputs": [
    {
     "data": {
      "image/png": "[encoded data removed]",
      "text/plain": [
       "<matplotlib.figure.Figure at 0x1173bee10>"
      ]
     },
     "metadata": {},
     "output_type": "display_data"
    }
   ],
   "source": [
    "ntimes = 10000\n",
    "store = pd.Series([4 in choice(range(1,101), size=100, replace=True) for _ in range(ntimes)])\n",
    "store_freq = pd.value_counts(store, normalize=True)\n",
    "store_freq.plot(kind=\"bar\")\n",
    "plt.title(r\"Simulated $\\mathbb{P}(4 \\in Z_i^*)$\")\n",
    "plt.show()"
   ]
  },
  {
   "cell_type": "code",
   "execution_count": 3,
   "metadata": {
    "collapsed": false
   },
   "outputs": [
    {
     "name": "stdout",
     "output_type": "stream",
     "text": [
      "P(4 in Sample [Simulation])  = 0.6256\n",
      "P(4 in Sample [Theoretical]) = 0.6340\n"
     ]
    }
   ],
   "source": [
    "print(\"P(4 in Sample [Simulation])  = {:.4f}\".format(store.mean()))\n",
    "print(\"P(4 in Sample [Theoretical]) = {:.4f}\".format(1 - (1 - 1/100)**100))"
   ]
  },
  {
   "cell_type": "markdown",
   "metadata": {},
   "source": [
    "**Comment on the results obtained.**\n",
    "\n",
    "The simulation yielded a pretty similar result as the theoretical. That is\n",
    "$$\n",
    "    \\mathbb{P}(i \\in Z_n^*) = 1 - \\left(1 - \\frac{1}{n}\\right)^n\n",
    "$$\n",
    "\n",
    "\n",
    "Evidently, \n",
    "$$\n",
    "    \\mathbb{P}(i \\in Z_n^*) \\xrightarrow[n\\rightarrow\\infty]{} 1 - e^{-1}\n",
    "$$"
   ]
  },
  {
   "cell_type": "markdown",
   "metadata": {},
   "source": [
    "## Applied"
   ]
  },
  {
   "cell_type": "markdown",
   "metadata": {},
   "source": [
    "### 5.\n",
    "In Chapter 4, we used logistic regression to predict the probability of `default` using `income` and `balance` on the `Default` data set. We will now estimate the test error of this logistic regression model using the validation set approach. Do not forget to set a random seed before beginning your analysis."
   ]
  },
  {
   "cell_type": "code",
   "execution_count": 2,
   "metadata": {
    "collapsed": false
   },
   "outputs": [],
   "source": [
    "%R -o default library(ISLR); default=Default;\n",
    "default.default = [1 if dflt == \"Yes\" else 0 for dflt in default.default]"
   ]
  },
  {
   "cell_type": "markdown",
   "metadata": {},
   "source": [
    "#### 5.a)\n",
    "Fit a logistic regression that uses `income` and `balance` to predict `default` *(The wrong way to do it)*"
   ]
  },
  {
   "cell_type": "code",
   "execution_count": 3,
   "metadata": {
    "collapsed": false
   },
   "outputs": [
    {
     "data": {
      "text/plain": [
       "0.96640000000000004"
      ]
     },
     "execution_count": 3,
     "metadata": {},
     "output_type": "execute_result"
    }
   ],
   "source": [
    "from sklearn.linear_model import LogisticRegression\n",
    "from sklearn.cross_validation import train_test_split, KFold\n",
    "\n",
    "X = default[[\"income\", \"balance\"]]\n",
    "y = default.default\n",
    "\n",
    "lrmod = LogisticRegression()\n",
    "lrmod.fit(X, y)\n",
    "\n",
    "(lrmod.predict(X) == y).mean()"
   ]
  },
  {
   "cell_type": "markdown",
   "metadata": {},
   "source": [
    "Fitting the logistic regression and computing the Overall Error Rate on the training dataset, we get 96% accuracy. This is not the way to do it."
   ]
  },
  {
   "cell_type": "markdown",
   "metadata": {},
   "source": [
    "#### 5.b)\n",
    "Using the validation set approach, estimate the test error for this model.\n",
    "1. Split the sample set into a training set and a validation set.\n",
    "2. Fit a multiple logistic regression model using only the training observations.\n",
    "3. Compute the validation set error, which is the fraction of the observations in the validation set that are misclassiﬁed."
   ]
  },
  {
   "cell_type": "code",
   "execution_count": 4,
   "metadata": {
    "collapsed": false
   },
   "outputs": [
    {
     "data": {
      "text/plain": [
       "0.031000000000000028"
      ]
     },
     "execution_count": 4,
     "metadata": {},
     "output_type": "execute_result"
    }
   ],
   "source": [
    "seed(1643)\n",
    "\n",
    "### 1)\n",
    "train_default, test_default = train_test_split(default, test_size=0.3)\n",
    "\n",
    "### 2)\n",
    "X = train_default[[\"income\", \"balance\"]]\n",
    "y = train_default.default\n",
    "lrmod = LogisticRegression()\n",
    "lrmod.fit(X, y)\n",
    "\n",
    "### 3)\n",
    "1 - np.mean(lrmod.predict(test_default[[\"income\", \"balance\"]]) == test_default.default)"
   ]
  },
  {
   "cell_type": "markdown",
   "metadata": {},
   "source": [
    "#### 5.c)\n",
    "Repeat the process in **(b)** three times, using three diﬀerent splits of the observations into a training set and a validation set. Comment on the results obtained."
   ]
  },
  {
   "cell_type": "code",
   "execution_count": 29,
   "metadata": {
    "collapsed": false
   },
   "outputs": [
    {
     "data": {
      "text/plain": [
       "0.033799840691927575"
      ]
     },
     "execution_count": 29,
     "metadata": {},
     "output_type": "execute_result"
    }
   ],
   "source": [
    "X = default[[\"income\", \"balance\"]]\n",
    "y = default.default\n",
    "\n",
    "n_folds = 3\n",
    "kf = KFold(len(X), n_folds=n_folds)\n",
    "\n",
    "mean_error = 0\n",
    "for train, test in kf:\n",
    "    X_train, X_test = X.iloc[train, :], X.iloc[test, :]\n",
    "    y_train, y_test = y.values[train], y.values[test]\n",
    "    \n",
    "    lrmod_kf = LogisticRegression()\n",
    "    lrmod_kf.fit(X_train, y_train)\n",
    "    \n",
    "    error_kf = 1 - np.mean(lrmod.predict(X_test) == y_test)\n",
    "    \n",
    "    mean_error += error_kf\n",
    "\n",
    "mean_error /= n_folds; mean_error"
   ]
  },
  {
   "cell_type": "markdown",
   "metadata": {},
   "source": [
    "The overall error rate with a 3-fold C.V. was 9% bigger than with the validation set approach. Recalling the properties of the k-fold C.V., we know that this estimation is less biased than the Validation set approach."
   ]
  }
 ],
 "metadata": {
  "anaconda-cloud": {},
  "kernelspec": {
   "display_name": "Python [default]",
   "language": "python",
   "name": "python3"
  },
  "language_info": {
   "codemirror_mode": {
    "name": "ipython",
    "version": 3
   },
   "file_extension": ".py",
   "mimetype": "text/x-python",
   "name": "python",
   "nbconvert_exporter": "python",
   "pygments_lexer": "ipython3",
   "version": "3.4.5"
  }
 },
 "nbformat": 4,
 "nbformat_minor": 1
}
