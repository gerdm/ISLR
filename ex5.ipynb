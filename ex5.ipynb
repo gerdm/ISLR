{
 "cells": [
  {
   "cell_type": "markdown",
   "metadata": {
    "collapsed": true
   },
   "source": [
    "# Chapter 5 Exercises"
   ]
  },
  {
   "cell_type": "code",
   "execution_count": 16,
   "metadata": {
    "collapsed": false
   },
   "outputs": [
    {
     "name": "stdout",
     "output_type": "stream",
     "text": [
      "The rpy2.ipython extension is already loaded. To reload it, use:\n",
      "  %reload_ext rpy2.ipython\n"
     ]
    }
   ],
   "source": [
    "import numpy as np\n",
    "from numpy.random import choice\n",
    "import pandas as pd\n",
    "import matplotlib.pyplot as plt\n",
    "import seaborn as sns\n",
    "import statsmodels.api as sm\n",
    "from pydataset import data\n",
    "from sklearn.utils import resample\n",
    "from sklearn.linear_model import LogisticRegression\n",
    "from sklearn.cross_validation import train_test_split, KFold\n",
    "from numpy.random import seed\n",
    "\n",
    "%load_ext rpy2.ipython"
   ]
  },
  {
   "cell_type": "markdown",
   "metadata": {},
   "source": [
    "## Conceptual"
   ]
  },
  {
   "cell_type": "markdown",
   "metadata": {},
   "source": [
    "### 2.h)\n",
    "We will now investigate numerically the probability that a bootstrap sample of size $n = 100$ **contains** the $j$th observation. Here $j = 4$. We repeatedly create bootstrap samples, and each time we record whether or not the fourth observation is contained in the bootstrap sample."
   ]
  },
  {
   "cell_type": "code",
   "execution_count": 2,
   "metadata": {
    "collapsed": false
   },
   "outputs": [
    {
     "data": {
      "image/png": "[encoded data removed]",
      "text/plain": [
       "<matplotlib.figure.Figure at 0x1173bee10>"
      ]
     },
     "metadata": {},
     "output_type": "display_data"
    }
   ],
   "source": [
    "ntimes = 10000\n",
    "store = pd.Series([4 in choice(range(1,101), size=100, replace=True) for _ in range(ntimes)])\n",
    "store_freq = pd.value_counts(store, normalize=True)\n",
    "store_freq.plot(kind=\"bar\")\n",
    "plt.title(r\"Simulated $\\mathbb{P}(4 \\in Z_i^*)$\")\n",
    "plt.show()"
   ]
  },
  {
   "cell_type": "code",
   "execution_count": 3,
   "metadata": {
    "collapsed": false
   },
   "outputs": [
    {
     "name": "stdout",
     "output_type": "stream",
     "text": [
      "P(4 in Sample [Simulation])  = 0.6256\n",
      "P(4 in Sample [Theoretical]) = 0.6340\n"
     ]
    }
   ],
   "source": [
    "print(\"P(4 in Sample [Simulation])  = {:.4f}\".format(store.mean()))\n",
    "print(\"P(4 in Sample [Theoretical]) = {:.4f}\".format(1 - (1 - 1/100)**100))"
   ]
  },
  {
   "cell_type": "markdown",
   "metadata": {},
   "source": [
    "**Comment on the results obtained.**\n",
    "\n",
    "The simulation yielded a pretty similar result as the theoretical. That is\n",
    "$$\n",
    "    \\mathbb{P}(i \\in Z_n^*) = 1 - \\left(1 - \\frac{1}{n}\\right)^n\n",
    "$$\n",
    "\n",
    "\n",
    "Evidently, \n",
    "$$\n",
    "    \\mathbb{P}(i \\in Z_n^*) \\xrightarrow[n\\rightarrow\\infty]{} 1 - e^{-1}\n",
    "$$"
   ]
  },
  {
   "cell_type": "markdown",
   "metadata": {},
   "source": [
    "## Applied"
   ]
  },
  {
   "cell_type": "markdown",
   "metadata": {},
   "source": [
    "### 5.\n",
    "In Chapter 4, we used logistic regression to predict the probability of `default` using `income` and `balance` on the `Default` data set. We will now estimate the test error of this logistic regression model using the validation set approach. Do not forget to set a random seed before beginning your analysis."
   ]
  },
  {
   "cell_type": "code",
   "execution_count": 13,
   "metadata": {
    "collapsed": false
   },
   "outputs": [],
   "source": [
    "%R -o default library(ISLR); default=Default;\n",
    "default.default = [1 if dflt == \"Yes\" else 0 for dflt in default.default]\n",
    "default.student = [1 if stdnt == \"Yes\" else 0 for stdnt in default.student]"
   ]
  },
  {
   "cell_type": "markdown",
   "metadata": {},
   "source": [
    "#### 5.a)\n",
    "Fit a logistic regression that uses `income` and `balance` to predict `default` *(The wrong way to do it)*"
   ]
  },
  {
   "cell_type": "code",
   "execution_count": 3,
   "metadata": {
    "collapsed": false
   },
   "outputs": [
    {
     "data": {
      "text/plain": [
       "0.96640000000000004"
      ]
     },
     "execution_count": 3,
     "metadata": {},
     "output_type": "execute_result"
    }
   ],
   "source": [
    "X = default[[\"income\", \"balance\"]]\n",
    "y = default.default\n",
    "\n",
    "lrmod = LogisticRegression()\n",
    "lrmod.fit(X, y)\n",
    "\n",
    "(lrmod.predict(X) == y).mean()"
   ]
  },
  {
   "cell_type": "markdown",
   "metadata": {},
   "source": [
    "Fitting the logistic regression and computing the Overall Error Rate on the training dataset, we get 96% accuracy. This is not the way to do it."
   ]
  },
  {
   "cell_type": "markdown",
   "metadata": {},
   "source": [
    "#### 5.b)\n",
    "Using the validation set approach, estimate the test error for this model.\n",
    "1. Split the sample set into a training set and a validation set.\n",
    "2. Fit a multiple logistic regression model using only the training observations.\n",
    "3. Compute the validation set error, which is the fraction of the observations in the validation set that are misclassiﬁed."
   ]
  },
  {
   "cell_type": "code",
   "execution_count": 27,
   "metadata": {
    "collapsed": false
   },
   "outputs": [
    {
     "name": "stdout",
     "output_type": "stream",
     "text": [
      "0.0310\n"
     ]
    }
   ],
   "source": [
    "seed(1643)\n",
    "\n",
    "### 1)\n",
    "train_default, test_default = train_test_split(default, test_size=0.3)\n",
    "\n",
    "### 2)\n",
    "X = train_default[[\"income\", \"balance\"]]\n",
    "y = train_default.default\n",
    "lrmod = LogisticRegression()\n",
    "lrmod.fit(X, y)\n",
    "\n",
    "### 3)\n",
    "oer = 1 - np.mean(lrmod.predict(test_default[[\"income\", \"balance\"]]) == test_default.default)\n",
    "print(\"{:.4f}\".format(oer))"
   ]
  },
  {
   "cell_type": "markdown",
   "metadata": {},
   "source": [
    "#### 5.c)\n",
    "Repeat the process in **(b)** three times, using three diﬀerent splits of the observations into a training set and a validation set. Comment on the results obtained."
   ]
  },
  {
   "cell_type": "code",
   "execution_count": 5,
   "metadata": {
    "collapsed": false
   },
   "outputs": [
    {
     "data": {
      "text/plain": [
       "0.033799840691927575"
      ]
     },
     "execution_count": 5,
     "metadata": {},
     "output_type": "execute_result"
    }
   ],
   "source": [
    "X = default[[\"income\", \"balance\"]]\n",
    "y = default.default\n",
    "\n",
    "n_folds = 3\n",
    "kf = KFold(len(X), n_folds=n_folds)\n",
    "\n",
    "mean_error = 0\n",
    "for train, test in kf:\n",
    "    X_train, X_test = X.iloc[train, :], X.iloc[test, :]\n",
    "    y_train, y_test = y.values[train], y.values[test]\n",
    "    \n",
    "    lrmod_kf = LogisticRegression()\n",
    "    lrmod_kf.fit(X_train, y_train)\n",
    "    \n",
    "    error_kf = 1 - np.mean(lrmod.predict(X_test) == y_test)\n",
    "    \n",
    "    mean_error += error_kf\n",
    "\n",
    "mean_error /= n_folds; mean_error"
   ]
  },
  {
   "cell_type": "markdown",
   "metadata": {},
   "source": [
    "The overall error rate with a 3-fold C.V. was 9% bigger than with the validation set approach. Recalling the properties of the k-fold C.V., we know that this estimation is less biased than the Validation set approach."
   ]
  },
  {
   "cell_type": "markdown",
   "metadata": {},
   "source": [
    "**5.d)**\n",
    "\n",
    "Now consider a logistic regression model that predicts the probability of default using income, balance, and a dummy variable for student. Estimate the test error for this model using the validation set approach. Comment on whether or not including a dummy variable for student leads to a reduction in the test error rate."
   ]
  },
  {
   "cell_type": "code",
   "execution_count": 28,
   "metadata": {
    "collapsed": false
   },
   "outputs": [
    {
     "name": "stdout",
     "output_type": "stream",
     "text": [
      "0.0373\n"
     ]
    }
   ],
   "source": [
    "seed(1643)\n",
    "X = default.drop(\"default\", axis=1)\n",
    "y = default.default\n",
    "\n",
    "X_train, X_test = train_test_split(X, test_size=0.3)\n",
    "y_train, y_test = train_test_split(y, test_size=0.3)\n",
    "\n",
    "lrmod = LogisticRegression()\n",
    "lrmod.fit(X_train, y_train)\n",
    "\n",
    "oer = 1 - np.mean(lrmod.predict(X_test) == y_test)\n",
    "print(\"{:.4f}\".format(oer))"
   ]
  },
  {
   "cell_type": "markdown",
   "metadata": {},
   "source": [
    "Including a dummy variable for student made the *Overall Error Rate* (oer) to be less accurate than without it. This could be caused by the bias of the validation set approach"
   ]
  },
  {
   "cell_type": "markdown",
   "metadata": {},
   "source": [
    "### 6.\n",
    "We continue to consider the use of a logistic regression model to predict the probability of default using income and balance on the Default data set. In particular, we will now compute estimates for the standard errors of the income and balance logistic regression coeﬃcients in two diﬀerent ways: \n",
    "1. using the bootstrap, and \n",
    "2. using the standard formula for computing the standard errors in the glm() function."
   ]
  },
  {
   "cell_type": "markdown",
   "metadata": {},
   "source": [
    "**6.a)**\n",
    "\n",
    "Using the `summary()` and `glm()` functions, determine the estimated standard errors for the coeﬃcients associated with `income` and `balance` in a multiple logistic regression model that uses both predictors."
   ]
  },
  {
   "cell_type": "code",
   "execution_count": 172,
   "metadata": {
    "collapsed": false
   },
   "outputs": [
    {
     "name": "stdout",
     "output_type": "stream",
     "text": [
      "                 Generalized Linear Model Regression Results                  \n",
      "==============================================================================\n",
      "Dep. Variable:                default   No. Observations:                10000\n",
      "Model:                            GLM   Df Residuals:                     9997\n",
      "Model Family:                Binomial   Df Model:                            2\n",
      "Link Function:                  logit   Scale:                             1.0\n",
      "Method:                          IRLS   Log-Likelihood:                -789.48\n",
      "Date:                Tue, 27 Sep 2016   Deviance:                       1579.0\n",
      "Time:                        09:04:55   Pearson chi2:                 6.95e+03\n",
      "No. Iterations:                    11                                         \n",
      "==============================================================================\n",
      "                 coef    std err          z      P>|z|      [95.0% Conf. Int.]\n",
      "------------------------------------------------------------------------------\n",
      "const        -11.5405      0.435    -26.544      0.000       -12.393   -10.688\n",
      "income      2.081e-05   4.99e-06      4.174      0.000       1.1e-05  3.06e-05\n",
      "balance        0.0056      0.000     24.835      0.000         0.005     0.006\n",
      "==============================================================================\n"
     ]
    }
   ],
   "source": [
    "seed(1643)\n",
    "X = default[[\"income\", \"balance\"]]; X = sm.add_constant(X)\n",
    "y = default.default\n",
    "\n",
    "main_lrmod = sm.GLM(y, X, family=sm.families.Binomial()).fit()\n",
    "print(main_lrmod.summary())"
   ]
  },
  {
   "cell_type": "markdown",
   "metadata": {},
   "source": [
    "**6.b)**\n",
    "Write a function, `boot_fn()`, that takes as input the `Default` data set as well as an index of the observations, and that outputs the coeﬃcient estimates for income and balance in the multiple logistic regression model."
   ]
  },
  {
   "cell_type": "code",
   "execution_count": 104,
   "metadata": {
    "collapsed": true
   },
   "outputs": [],
   "source": [
    "def boot_fn(default, index):\n",
    "    X = default[[\"income\", \"balance\"]].iloc[index, :]; X = sm.add_constant(X)\n",
    "    y = default.default[index]\n",
    "\n",
    "    lrmod = sm.GLM(y, X, family=sm.families.Binomial()).fit()\n",
    "    return lrmod.params[[\"income\", \"balance\"]]"
   ]
  },
  {
   "cell_type": "markdown",
   "metadata": {},
   "source": [
    "**6.c)**\n",
    "\n",
    "Use the `boot()` function together with your `boot.fn()` function to estimate the standard errors of the logistic regression coeﬃcients for income and balance."
   ]
  },
  {
   "cell_type": "code",
   "execution_count": 134,
   "metadata": {
    "collapsed": false
   },
   "outputs": [],
   "source": [
    "seed(100)\n",
    "\n",
    "nsamp = 1000\n",
    "income_boot = np.repeat(np.nan, nsamp)\n",
    "balance_boot = np.repeat(np.nan, nsamp)\n",
    "for i in range(nsamp):\n",
    "    boot_data = resample(default.drop(\"student\", axis=1))\n",
    "    X_boot = boot_data[[\"income\", \"balance\"]]; X_boot = sm.add_constant(X_boot)\n",
    "    y_boot = boot_data.default\n",
    "    \n",
    "    lrmod_boot = sm.GLM(y_boot, X_boot, family=sm.families.Binomial()).fit()\n",
    "    income_est, balance_est = lrmod_boot.params[[\"income\", \"balance\"]]\n",
    "    \n",
    "    income_boot[i] = income_est\n",
    "    balance_boot[i] = balance_est"
   ]
  },
  {
   "cell_type": "markdown",
   "metadata": {},
   "source": [
    "The estandard error for the bootstrap estimates is given by:\n",
    "$$\n",
    "    SE_{B}(\\hat{\\alpha}) = \\sqrt{\\frac{1}{B-1}\\sum_{r=1}^B \\left( \\hat{\\alpha}^{*r} - \\frac{1}{B}\\sum_{r'=1}^B \\hat{\\alpha}^{*r'}\\right)^2}\n",
    "$$"
   ]
  },
  {
   "cell_type": "code",
   "execution_count": 142,
   "metadata": {
    "collapsed": false
   },
   "outputs": [
    {
     "name": "stderr",
     "output_type": "stream",
     "text": [
      "//anaconda/lib/python3.4/site-packages/statsmodels/nonparametric/kdetools.py:20: VisibleDeprecationWarning: using a non-integer number instead of an integer will result in an error in the future\n",
      "  y = X[:m/2+1] + np.r_[0,X[m/2+1:],0]*1j\n"
     ]
    },
    {
     "data": {
      "image/png": "[encoded data removed]",
      "text/plain": [
       "<matplotlib.figure.Figure at 0x122bf3ef0>"
      ]
     },
     "metadata": {},
     "output_type": "display_data"
    }
   ],
   "source": [
    "fig = plt.figure()\n",
    "fig.add_subplot(221)\n",
    "sns.distplot(income_boot)\n",
    "fig.add_subplot(222)\n",
    "sns.distplot(balance_boot)\n",
    "plt.show()"
   ]
  },
  {
   "cell_type": "code",
   "execution_count": 176,
   "metadata": {
    "collapsed": true
   },
   "outputs": [],
   "source": [
    "def standard_error_bootstrap(s_erros):\n",
    "    return np.sqrt(sum((s_erros  - np.mean(s_erros))**2) / (len(s_erros) - 1))\n",
    "\n",
    "income_boot_se = standard_error_bootstrap(income_boot)\n",
    "balance_boot_se = standard_error_bootstrap(balance_boot)"
   ]
  },
  {
   "cell_type": "code",
   "execution_count": 224,
   "metadata": {
    "collapsed": false
   },
   "outputs": [
    {
     "name": "stdout",
     "output_type": "stream",
     "text": [
      "'balance' bootstrap standard error:  2.314109e-04\n",
      "'balance' theoretical standard error: 2.273814e-04\n",
      "\n",
      "'income' bootstrap standard error:   4.794017e-06\n",
      "'income' theoretical standard error: 4.985245e-06\n"
     ]
    }
   ],
   "source": [
    "print(\"'balance' bootstrap standard error: {:>13e}\".format(balance_boot_se))\n",
    "print(\"'balance' theoretical standard error: {:e}\".format(main_lrmod.bse[\"balance\"]))\n",
    "print()\n",
    "print(\"'income' bootstrap standard error: {:>14e}\".format(income_boot_se))\n",
    "print(\"'income' theoretical standard error: {:e}\".format(main_lrmod.bse[\"income\"]))"
   ]
  },
  {
   "cell_type": "markdown",
   "metadata": {},
   "source": [
    "**6.d)**\n",
    "Comment on the estimated standard errors obtained using the `glm()` function and using your bootstrap function."
   ]
  },
  {
   "cell_type": "markdown",
   "metadata": {},
   "source": [
    "The estandard error predicted by the model and the bootstrap estandard errors approximate each other for each of the estimated parameters"
   ]
  },
  {
   "cell_type": "markdown",
   "metadata": {},
   "source": [
    "### 7\n",
    "\n",
    "We will compute the LOOCV error for a simple logistic regression model on the Weekly data set. Recall that in the context of classiﬁcation problems, the LOOCV error is given in (5.4)."
   ]
  },
  {
   "cell_type": "code",
   "execution_count": 227,
   "metadata": {
    "collapsed": false
   },
   "outputs": [],
   "source": [
    "%R -o weekly library(ISLR); weekly=Weekly;"
   ]
  },
  {
   "cell_type": "markdown",
   "metadata": {},
   "source": [
    "**7.a)**\n",
    "\n",
    "Fit a logistic regression model that predicts Direction using Lag1 and Lag2."
   ]
  },
  {
   "cell_type": "code",
   "execution_count": 235,
   "metadata": {
    "collapsed": false
   },
   "outputs": [
    {
     "data": {
      "text/plain": [
       "0.55555555555555558"
      ]
     },
     "execution_count": 235,
     "metadata": {},
     "output_type": "execute_result"
    }
   ],
   "source": [
    "X = weekly[[\"Lag1\", \"Lag2\"]]\n",
    "y = weekly.Direction\n",
    "dir_logr = LogisticRegression()\n",
    "dir_logr.fit(X, y)\n",
    "dir_logr.score(X,y)"
   ]
  },
  {
   "cell_type": "markdown",
   "metadata": {},
   "source": [
    "**7.b)**\n",
    "\n",
    "Fit a logistic regression model that predicts Direction using Lag1 and Lag2 using all but the ﬁrst observation."
   ]
  },
  {
   "cell_type": "code",
   "execution_count": 241,
   "metadata": {
    "collapsed": false
   },
   "outputs": [
    {
     "data": {
      "text/plain": [
       "LogisticRegression(C=1.0, class_weight=None, dual=False, fit_intercept=True,\n",
       "          intercept_scaling=1, max_iter=100, multi_class='ovr', n_jobs=1,\n",
       "          penalty='l2', random_state=None, solver='liblinear', tol=0.0001,\n",
       "          verbose=0, warm_start=False)"
      ]
     },
     "execution_count": 241,
     "metadata": {},
     "output_type": "execute_result"
    }
   ],
   "source": [
    "dir_logr = LogisticRegression()\n",
    "dir_logr.fit(X.iloc[1:,:], y[1:])"
   ]
  },
  {
   "cell_type": "markdown",
   "metadata": {},
   "source": [
    "**7.c)**\n",
    "\n",
    "Use the model from (b) to predict the direction of the ﬁrst observation. You can do this by predicting that the ﬁrst observation will go up if $\\mathbb{P}(\\text{Direction}=\\text{\"Up\"} |\\text{ Lag1}, \\text{ Lag2}) > 0.5$. Was this observation correctly classiﬁed?"
   ]
  },
  {
   "cell_type": "code",
   "execution_count": 250,
   "metadata": {
    "collapsed": false
   },
   "outputs": [
    {
     "data": {
      "text/plain": [
       "array([False], dtype=bool)"
      ]
     },
     "execution_count": 250,
     "metadata": {},
     "output_type": "execute_result"
    }
   ],
   "source": [
    "dir_logr.predict([X.values[1]]) == y[1]"
   ]
  },
  {
   "cell_type": "markdown",
   "metadata": {},
   "source": [
    "The observation was **NOT** correctly classified"
   ]
  },
  {
   "cell_type": "markdown",
   "metadata": {},
   "source": [
    "**7.d)** \n",
    "\n",
    "Write a for loop from i = 1 to i = n, where n is the number of observations in the data set, that performs each of the following steps:\n",
    "1. Fit a logistic regression model using all but the ith observation to predict Direction using Lag1 and Lag2.\n",
    "2. Compute the posterior probability of the market moving up for the ith observation.\n",
    "3. Use the posterior probability for the ith observation in order to predict whether or not the market moves up.\n",
    "4. Determine whether or not an error was made in predicting the direction for the ith observation. If an error was made, then indicate this as a 1, and otherwise indicate it as a 0."
   ]
  },
  {
   "cell_type": "markdown",
   "metadata": {},
   "source": [
    "**7.e)**\n",
    "\n",
    "Take the average of the n numbers obtained in (d)4. in order to obtain the LOOCV estimate for the test error. Comment on the results."
   ]
  }
 ],
 "metadata": {
  "anaconda-cloud": {},
  "kernelspec": {
   "display_name": "Python [default]",
   "language": "python",
   "name": "python3"
  },
  "language_info": {
   "codemirror_mode": {
    "name": "ipython",
    "version": 3
   },
   "file_extension": ".py",
   "mimetype": "text/x-python",
   "name": "python",
   "nbconvert_exporter": "python",
   "pygments_lexer": "ipython3",
   "version": "3.4.5"
  }
 },
 "nbformat": 4,
 "nbformat_minor": 1
}
